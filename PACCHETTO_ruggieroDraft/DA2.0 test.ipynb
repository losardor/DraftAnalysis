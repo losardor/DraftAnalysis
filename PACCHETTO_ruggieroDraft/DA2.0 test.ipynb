{
 "cells": [
  {
   "cell_type": "code",
   "execution_count": 2,
   "metadata": {},
   "outputs": [],
   "source": [
    "%load_ext autoreload\n",
    "%autoreload 2\n",
    "\n",
    "import draftAnal20 as DA\n",
    "import pandas as pd\n",
    "import pickle as pk\n",
    "from datetime import datetime"
   ]
  },
  {
   "cell_type": "code",
   "execution_count": 3,
   "metadata": {},
   "outputs": [],
   "source": [
    "Data = DA.initialize('./Data/INPUT/')"
   ]
  },
  {
   "cell_type": "code",
   "execution_count": 4,
   "metadata": {},
   "outputs": [],
   "source": [
    "draft_dic = DA.fill_drafts(Data)"
   ]
  },
  {
   "cell_type": "code",
   "execution_count": null,
   "metadata": {},
   "outputs": [],
   "source": [
    "DA.run_bcl(Data)"
   ]
  },
  {
   "cell_type": "code",
   "execution_count": null,
   "metadata": {},
   "outputs": [],
   "source": [
    "draft_dic = DA.import_contigs(Data, draft_dic)"
   ]
  },
  {
   "cell_type": "code",
   "execution_count": null,
   "metadata": {},
   "outputs": [],
   "source": [
    "draft_dic = DA.Slide(Data, draft_dic)"
   ]
  },
  {
   "cell_type": "code",
   "execution_count": null,
   "metadata": {
    "scrolled": true
   },
   "outputs": [],
   "source": [
    "import pickle as pk\n",
    "from datetime import datetime\n",
    "now = datetime.now()\n",
    "timestmp = now.strftime(\"%d-%m-%Y-%H-%M\")\n",
    "print(timestmp)\n",
    "Data.to_pickle('Data'+timestmp+'.pk')\n",
    "pk.dump( draft_dic, open( \"./Data/OUTPUT/draft_dic\"+timestmp+\".p\", \"wb\" ) )"
   ]
  },
  {
   "cell_type": "code",
   "execution_count": null,
   "metadata": {},
   "outputs": [],
   "source": [
    "fin_dra_sl = pd.DataFrame()\n",
    "authors = [author['Name'] for _, author in Data.iterrows()]\n",
    "sliding_mn = [draft_dic[name].iloc[-1]['Sliding_mn'].item() for name in authors]\n",
    "sliding_dev = [draft_dic[name].iloc[-1]['Sliding_dev'].item() for name in authors]\n",
    "fin_dra_sl['author'] = authors\n",
    "fin_dra_sl['sliding_mn'] = sliding_mn\n",
    "fin_dra_sl['sliding_dev'] = sliding_dev"
   ]
  },
  {
   "cell_type": "code",
   "execution_count": null,
   "metadata": {},
   "outputs": [],
   "source": [
    "import matplotlib\n",
    "font = {'family' : 'normal',\n",
    "        'weight' : 'bold',\n",
    "        'size'   : 22}\n",
    "\n",
    "matplotlib.rc('font', **font)\n",
    "figure= plt.figure(figsize=(15,10))\n",
    "ax=figure.add_axes([1,1,1,1])\n",
    "fin_dra_sl = fin_dra_sl.sort_values(by='sliding_mn', ascending=False)\n",
    "fin_dra_sl.plot(x='author', y='sliding_mn', yerr='sliding_dev', kind='bar', ax=ax, width = 0.8,\n",
    "               label = \"internal cross-entropy\")\n",
    "padding = 0.4\n",
    "plt.ylim([fin_dra_sl['sliding_mn'].min()-padding, fin_dra_sl['sliding_mn'].max()+padding])\n",
    "plt.xlabel('Author')\n",
    "plt.ylabel('Cross-entropy [bits/character]')"
   ]
  },
  {
   "cell_type": "code",
   "execution_count": null,
   "metadata": {},
   "outputs": [],
   "source": []
  }
 ],
 "metadata": {
  "kernelspec": {
   "display_name": "Python 3",
   "language": "python",
   "name": "python3"
  },
  "language_info": {
   "codemirror_mode": {
    "name": "ipython",
    "version": 3
   },
   "file_extension": ".py",
   "mimetype": "text/x-python",
   "name": "python",
   "nbconvert_exporter": "python",
   "pygments_lexer": "ipython3",
   "version": "3.7.5"
  }
 },
 "nbformat": 4,
 "nbformat_minor": 2
}
