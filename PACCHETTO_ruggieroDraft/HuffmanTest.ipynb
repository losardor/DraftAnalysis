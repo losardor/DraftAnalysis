{
 "cells": [
  {
   "cell_type": "code",
   "execution_count": 1,
   "metadata": {},
   "outputs": [],
   "source": [
    "import pandas as pd\n",
    "import draftAnal as DA\n",
    "import HuffmanEncode as HE"
   ]
  },
  {
   "cell_type": "code",
   "execution_count": 2,
   "metadata": {},
   "outputs": [],
   "source": [
    "T1 = \"Lorem ipsum dolor sit amet, consectetur adipiscing elit. Vivamus imperdiet tellus tortor, sed sodales metus varius non. Proin id cursus dolor. Vivamus dapibus, dui efficitur tincidunt pellentesque, diam urna ullamcorper elit, sit amet faucibus diam enim a erat. In hac habitasse platea dictumst. Fusce nec urna mollis, sodales enim eget, pharetra ante. Pellentesque vitae accumsan dolor, et malesuada mi. Nulla facilisi. Proin tincidunt interdum lectus, nec finibus mauris. Fusce eu lacinia turpis. Etiam eget massa nec ex egestas tempor venenatis eu lorem. Proin eleifend libero eget posuere fermentum. Quisque ultrices eget turpis sit amet cursus. Sed quis sapien sed arcu pellentesque ultricies ut vel nibh. Nullam tempus lectus vitae magna elementum malesuada. Aliquam porta dictum finibus.Donec ultricies enim sed sapien imperdiet, id consectetur felis porttitor. Suspendisse in leo vitae felis consectetur mollis non sit amet massa. Aenean purus tellus, porta nec pharetra id, suscipit at tortor. Nullam sit amet turpis a purus maximus faucibus at sit amet nunc. Donec nec nunc lorem. Sed rhoncus commodo lorem, ut dignissim risus scelerisque eget. Vivamus at sapien in dolor suscipit ultricies. Praesent in augue nec ligula blandit dignissim. Etiam consectetur aliquet eros, in aliquet lacus efficitur vitae. Ut sed semper orci. Suspendisse placerat id ligula a aliquet. Vivamus vel arcu sed est dictum malesuada. Duis nec nisl volutpat, finibus ligula in, commodo tellus. Vivamus congue sapien et viverra pretium. Maecenas sit amet ipsum turpis.\"\n",
    "C11 = DA.compress(T1+T1)"
   ]
  },
  {
   "cell_type": "code",
   "execution_count": 3,
   "metadata": {},
   "outputs": [],
   "source": [
    "T2 = \"Maecenas ac eros purus. Vivamus lacinia elit neque, at consectetur velit commodo eu. Maecenas eros elit, imperdiet et ipsum ut, maximus commodo ex. Maecenas sed enim a lectus egestas varius quis a dui. Maecenas commodo elit sapien, consequat blandit eros molestie convallis. Nulla consectetur fringilla sem et mattis. Orci varius natoque penatibus et magnis dis parturient montes, nascetur ridiculus mus. Nulla posuere leo orci, non suscipit nulla porttitor at. Donec non tortor nulla. Pellentesque augue lorem, pretium sed sapien sit amet, euismod efficitur mi. Vestibulum auctor, metus vel cursus feugiat, risus ex vestibulum tortor, eu egestas neque velit vel nibh. Aenean lobortis non risus non blandit. Proin vitae arcu tincidunt, sollicitudin augue in, lacinia arcu. In vel purus quis neque efficitur dictum.\""
   ]
  },
  {
   "cell_type": "code",
   "execution_count": 4,
   "metadata": {},
   "outputs": [
    {
     "data": {
      "text/plain": [
       "0.6201061712010617"
      ]
     },
     "execution_count": 4,
     "metadata": {},
     "output_type": "execute_result"
    }
   ],
   "source": [
    "DA.crossentropy(T1,T2)"
   ]
  },
  {
   "cell_type": "code",
   "execution_count": 5,
   "metadata": {},
   "outputs": [],
   "source": [
    "C12 = DA.crossCompress(T1,T2)\n",
    "\n",
    "h = HE.HuffmanCoding(C11)\n",
    "Cbits11 = h.BitsCompressed()\n",
    "h = HE.HuffmanCoding(C12)\n",
    "Cbits12 = h.BitsCompressed()"
   ]
  },
  {
   "cell_type": "code",
   "execution_count": 11,
   "metadata": {},
   "outputs": [
    {
     "name": "stdout",
     "output_type": "stream",
     "text": [
      "4880\n",
      "6738\n"
     ]
    }
   ],
   "source": [
    "print(Cbits11)\n",
    "print(Cbits12)"
   ]
  },
  {
   "cell_type": "code",
   "execution_count": 8,
   "metadata": {},
   "outputs": [
    {
     "name": "stdout",
     "output_type": "stream",
     "text": [
      "1553\n",
      "814\n"
     ]
    }
   ],
   "source": [
    "print(len(T1))\n",
    "print(len(T2))"
   ]
  },
  {
   "cell_type": "code",
   "execution_count": 9,
   "metadata": {},
   "outputs": [
    {
     "data": {
      "text/plain": [
       "1.571152607855763"
      ]
     },
     "execution_count": 9,
     "metadata": {},
     "output_type": "execute_result"
    }
   ],
   "source": [
    "Cbits11/(2*len(T1))"
   ]
  },
  {
   "cell_type": "code",
   "execution_count": 10,
   "metadata": {},
   "outputs": [
    {
     "data": {
      "text/plain": [
       "2.846641318124208"
      ]
     },
     "execution_count": 10,
     "metadata": {},
     "output_type": "execute_result"
    }
   ],
   "source": [
    "Cbits12/(len(T1)+len(T2))"
   ]
  },
  {
   "cell_type": "code",
   "execution_count": null,
   "metadata": {},
   "outputs": [],
   "source": []
  }
 ],
 "metadata": {
  "kernelspec": {
   "display_name": "Python 3",
   "language": "python",
   "name": "python3"
  },
  "language_info": {
   "codemirror_mode": {
    "name": "ipython",
    "version": 3
   },
   "file_extension": ".py",
   "mimetype": "text/x-python",
   "name": "python",
   "nbconvert_exporter": "python",
   "pygments_lexer": "ipython3",
   "version": "3.7.4"
  }
 },
 "nbformat": 4,
 "nbformat_minor": 2
}
