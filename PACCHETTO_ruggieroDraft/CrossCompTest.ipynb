{
 "cells": [
  {
   "cell_type": "code",
   "execution_count": 186,
   "metadata": {},
   "outputs": [],
   "source": [
    "%matplotlib inline"
   ]
  },
  {
   "cell_type": "code",
   "execution_count": 100,
   "metadata": {},
   "outputs": [],
   "source": [
    "def twinLength(text,d,i):\n",
    "    t=0\n",
    "    if i<d:\n",
    "        print(\"indexes in wrong order\")\n",
    "        return -1\n",
    "    if i==d:\n",
    "        return 0\n",
    "    for j in range(0,min(i-d,len(text)-i)):\n",
    "        #print(str(d+j)+\" -- \"+ str(j+i))\n",
    "        if text[d+j]==text[j+i]:\n",
    "            t=t+1\n",
    "        else:\n",
    "            return t\n",
    "        \n",
    "    return t\n",
    "\n",
    "#------\n",
    "\n",
    "def twinStart_N_length(text,i):\n",
    "    d_t_max=i\n",
    "    t_max=0\n",
    "    \n",
    "    for j in range(0,i+1):\n",
    "        #print(str(text[j])+\"==\"+str(text[i]))\n",
    "        if text[j]==text[i]:\n",
    "            d=j\n",
    "            t=twinLength(text,d,i)\n",
    "            \n",
    "            if t>t_max:\n",
    "                t_max = t\n",
    "                d_t_max = d\n",
    "                \n",
    "    return (d_t_max,t_max)\n",
    "\n",
    "#------\n",
    "\n",
    "def compress(text):\n",
    "    j=0\n",
    "    i = 0\n",
    "    text_new = []\n",
    "    while(i<len(text)):\n",
    "        d,l = twinStart_N_length(text, i)\n",
    "        if l == 0:\n",
    "            elem = text[i]\n",
    "        else:\n",
    "            elem = (i-d,l)\n",
    "        text_new.append(elem)\n",
    "        i+=max(l,1)\n",
    "        j+=1\n",
    "    return text_new\n",
    "\n",
    "#------\n",
    "\n",
    "def size_compresse(text):\n",
    "    siz = 0\n",
    "    for elem in text:\n",
    "        if type(elem) is str:\n",
    "            #print(str(elem)+' is a string')\n",
    "            siz+=8\n",
    "        elif type(elem) is tuple:\n",
    "            #print(str(elem)+' is a tuple')\n",
    "            siz+=32\n",
    "        else:\n",
    "            print('unrecognised element error')\n",
    "            return None\n",
    "    return siz\n",
    "\n",
    "#------\n",
    "\n",
    "def crossentropy(t1,t2):\n",
    "\n",
    "    C12=compress(t1+t2)\n",
    "    H12 = size_compresse(C12)\n",
    "    C2=compress(t2)\n",
    "    H2 = size_compresse(C2)\n",
    "    C1 = compress(t1)\n",
    "    H1 = size_compresse(C1)\n",
    "    \n",
    "    return (H12-H1) / H2\n",
    "        \n",
    "\n",
    "#------\n",
    "\n",
    "def crosswithinlist(filename, window_lenght = 300, slideW = 50):\n",
    "    df = pd.DataFrame()\n",
    "    with open(filename, 'r') as f:\n",
    "        listfile = list(f.read()) # random_text(10000)#\n",
    "    \n",
    "    textlen = (len(listfile)   // slideW ) * slideW\n",
    "    ind=0\n",
    "    print((len(listfile)   // slideW ))\n",
    "    while ind <= textlen-(window_lenght*2):    \n",
    "        #df.append\n",
    "        crssntrpy = crossentropy(listfile[ind:ind+window_lenght],listfile[ind+window_lenght:ind+(window_lenght*2)])\n",
    "        df = df.append([crssntrpy])\n",
    "        #print(crossentropy(listfile[ind:ind+window_lenght],listfile[ind+window_lenght:ind+(window_lenght*2)]))\n",
    "        ind += 50\n",
    "    df.reset_index(inplace=True)\n",
    "    df.drop(axis=0, columns=['index'], inplace=True)\n",
    "    #df.index=list(range(len(listfile)   // slideW )-1)\n",
    "    \n",
    "    return df\n",
    "\n",
    "#------\n",
    "\n",
    "\n",
    "\n",
    "#------\n",
    "\n",
    "\n",
    "\n",
    "#------"
   ]
  },
  {
   "cell_type": "code",
   "execution_count": null,
   "metadata": {},
   "outputs": [],
   "source": []
  },
  {
   "cell_type": "code",
   "execution_count": null,
   "metadata": {},
   "outputs": [],
   "source": []
  },
  {
   "cell_type": "code",
   "execution_count": null,
   "metadata": {},
   "outputs": [],
   "source": []
  },
  {
   "cell_type": "code",
   "execution_count": null,
   "metadata": {},
   "outputs": [],
   "source": []
  },
  {
   "cell_type": "code",
   "execution_count": null,
   "metadata": {},
   "outputs": [],
   "source": []
  },
  {
   "cell_type": "code",
   "execution_count": null,
   "metadata": {},
   "outputs": [],
   "source": []
  },
  {
   "cell_type": "code",
   "execution_count": 74,
   "metadata": {},
   "outputs": [],
   "source": [
    "def twinLength(text,d,i):\n",
    "    t=0\n",
    "    if i<d:\n",
    "        print(\"indexes in wrong order\")\n",
    "        return -1\n",
    "    if i==d:\n",
    "        return 0\n",
    "    for j in range(0,min(i-d,len(text)-i)):\n",
    "        #print(str(d+j)+\" -- \"+ str(j+i))\n",
    "        if text[d+j]==text[j+i]:\n",
    "            t=t+1\n",
    "        else:\n",
    "            return t\n",
    "        \n",
    "    return t"
   ]
  },
  {
   "cell_type": "code",
   "execution_count": 75,
   "metadata": {},
   "outputs": [],
   "source": [
    "def twinStart_N_length(text,i):\n",
    "    d_t_max=i\n",
    "    t_max=0\n",
    "    \n",
    "    for j in range(0,i+1):\n",
    "        #print(str(text[j])+\"==\"+str(text[i]))\n",
    "        if text[j]==text[i]:\n",
    "            d=j\n",
    "            t=twinLength(text,d,i)\n",
    "            \n",
    "            if t>t_max:\n",
    "                t_max = t\n",
    "                d_t_max = d\n",
    "                \n",
    "    return (d_t_max,t_max)"
   ]
  },
  {
   "cell_type": "code",
   "execution_count": 137,
   "metadata": {},
   "outputs": [
    {
     "data": {
      "text/plain": [
       "(1, 0)"
      ]
     },
     "execution_count": 137,
     "metadata": {},
     "output_type": "execute_result"
    }
   ],
   "source": [
    "twinStart_N_length(text,1)"
   ]
  },
  {
   "cell_type": "code",
   "execution_count": 209,
   "metadata": {},
   "outputs": [],
   "source": [
    "text =  ['a', 'b', 'a','a','b','b','a','a','b','a']\n",
    "text2 = ['a', 'a', 'a', 'b', 'b', 'a', 'b', 'b', 'a', 'b']"
   ]
  },
  {
   "cell_type": "code",
   "execution_count": 76,
   "metadata": {},
   "outputs": [],
   "source": [
    "import random\n",
    "def random_text(N):\n",
    "    test = []\n",
    "    char_dict={0:'a', 1:'b'}\n",
    "    \n",
    "    for i in range(0,N):\n",
    "        test.append(char_dict[random.randint(0,1)])\n",
    "    return test"
   ]
  },
  {
   "cell_type": "code",
   "execution_count": 210,
   "metadata": {},
   "outputs": [],
   "source": [
    "def compress(text):\n",
    "    j=0\n",
    "    i = 0\n",
    "    text_new = []\n",
    "    while(i<len(text)):\n",
    "        d,l = twinStart_N_length(text, i)\n",
    "        if l == 0:\n",
    "            elem = text[i]\n",
    "        else:\n",
    "            elem = (i-d,l)\n",
    "        text_new.append(elem)\n",
    "        i+=max(l,1)\n",
    "        j+=1\n",
    "    return text_new"
   ]
  },
  {
   "cell_type": "code",
   "execution_count": 215,
   "metadata": {},
   "outputs": [],
   "source": [
    "def size_compresse(text):\n",
    "    siz = 0\n",
    "    for elem in text:\n",
    "        if type(elem) is str:\n",
    "            #print(str(elem)+' is a string')\n",
    "            siz+=8\n",
    "        elif type(elem) is tuple:\n",
    "            #print(str(elem)+' is a tuple')\n",
    "            siz+=32\n",
    "        else:\n",
    "            print('unrecognised element error')\n",
    "            return None\n",
    "    return siz"
   ]
  },
  {
   "cell_type": "code",
   "execution_count": 240,
   "metadata": {},
   "outputs": [
    {
     "name": "stdout",
     "output_type": "stream",
     "text": [
      "4900\n"
     ]
    }
   ],
   "source": [
    "import time\n",
    "t = []\n",
    "for N in range(4900,5000, 100):\n",
    "    print(N)\n",
    "    \n",
    "    t1 = random_text(N)\n",
    "    t2 = random_text(N)\n",
    "    start = time.time()\n",
    "    C12=compress(t1+t2)\n",
    "    H12 = size_compresse(C12)\n",
    "    C2=compress(t2)\n",
    "    H2 = size_compresse(C2)\n",
    "    C1 = compress(t1)\n",
    "    H1 = size_compresse(C1)\n",
    "    C11 = compress(t1+t1)\n",
    "    H11 = size_compresse(C11)\n",
    "    t.append(time.time()-start)"
   ]
  },
  {
   "cell_type": "code",
   "execution_count": 238,
   "metadata": {},
   "outputs": [
    {
     "data": {
      "text/plain": [
       "[<matplotlib.lines.Line2D at 0x112e33290>]"
      ]
     },
     "execution_count": 238,
     "metadata": {},
     "output_type": "execute_result"
    },
    {
     "data": {
      "image/png": "[encoded data removed]",
      "text/plain": [
       "<Figure size 432x288 with 1 Axes>"
      ]
     },
     "metadata": {
      "needs_background": "light"
     },
     "output_type": "display_data"
    }
   ],
   "source": [
    "import matplotlib.pyplot as plt\n",
    "plt.plot(t)"
   ]
  },
  {
   "cell_type": "code",
   "execution_count": 241,
   "metadata": {},
   "outputs": [
    {
     "name": "stdout",
     "output_type": "stream",
     "text": [
      "[5.1199469566345215]\n"
     ]
    }
   ],
   "source": [
    "print(t)"
   ]
  },
  {
   "cell_type": "code",
   "execution_count": 216,
   "metadata": {},
   "outputs": [
    {
     "data": {
      "text/plain": [
       "0.2222222222222222"
      ]
     },
     "execution_count": 216,
     "metadata": {},
     "output_type": "execute_result"
    }
   ],
   "source": [
    "( size_compresse(compress(text+text))-size_compresse(compress(text)) ) /size_compresse(compress(text))"
   ]
  },
  {
   "cell_type": "code",
   "execution_count": 84,
   "metadata": {},
   "outputs": [
    {
     "data": {
      "text/plain": [
       "0.002176278563656148"
      ]
     },
     "execution_count": 84,
     "metadata": {},
     "output_type": "execute_result"
    }
   ],
   "source": [
    "( size_compresse(compress(t1+t1))-size_compresse(compress(t1)) ) /size_compresse(compress(t1))"
   ]
  },
  {
   "cell_type": "code",
   "execution_count": null,
   "metadata": {},
   "outputs": [],
   "source": []
  },
  {
   "cell_type": "code",
   "execution_count": null,
   "metadata": {},
   "outputs": [],
   "source": []
  },
  {
   "cell_type": "code",
   "execution_count": 219,
   "metadata": {},
   "outputs": [
    {
     "name": "stdout",
     "output_type": "stream",
     "text": [
      "['a', 'b', (2, 1), (3, 2), (4, 4), (7, 3), (10, 8)]\n",
      "['a', 'b', (2, 1), (3, 2), (4, 4), (9, 1)]\n"
     ]
    }
   ],
   "source": [
    "print(compress(text+text))\n",
    "print(compress(text))"
   ]
  },
  {
   "cell_type": "code",
   "execution_count": 162,
   "metadata": {},
   "outputs": [],
   "source": [
    "def Dizionario(text):\n",
    "    i=0\n",
    "    N = 0\n",
    "    D = {}\n",
    "    while(i<len(text)):\n",
    "        print(i)\n",
    "        d,l = twinStart_N_length(text, i)\n",
    "        if l == 0:\n",
    "            D[N] = text[i]\n",
    "            N+=1\n",
    "            i+=1\n",
    "        else:\n",
    "            if l==1:\n",
    "                i+=1\n",
    "            else:\n",
    "                D[N] = text[i:i+l]\n",
    "                N+=1\n",
    "                i+=l\n",
    "                \n",
    "    return D"
   ]
  },
  {
   "cell_type": "code",
   "execution_count": 164,
   "metadata": {},
   "outputs": [
    {
     "name": "stdout",
     "output_type": "stream",
     "text": [
      "0\n",
      "1\n",
      "2\n",
      "3\n",
      "5\n",
      "9\n",
      "{0: 0, 1: 1, 2: [0, 1], 3: [1, 0, 0, 1]}\n"
     ]
    }
   ],
   "source": [
    "print(Dizionario(text))"
   ]
  },
  {
   "cell_type": "code",
   "execution_count": null,
   "metadata": {},
   "outputs": [],
   "source": []
  },
  {
   "cell_type": "code",
   "execution_count": null,
   "metadata": {},
   "outputs": [],
   "source": []
  },
  {
   "cell_type": "code",
   "execution_count": null,
   "metadata": {},
   "outputs": [],
   "source": []
  },
  {
   "cell_type": "code",
   "execution_count": null,
   "metadata": {},
   "outputs": [],
   "source": []
  },
  {
   "cell_type": "code",
   "execution_count": 61,
   "metadata": {},
   "outputs": [
    {
     "name": "stdout",
     "output_type": "stream",
     "text": [
      "130 133\n"
     ]
    }
   ],
   "source": [
    "print(textlen,len(lisfile) )"
   ]
  },
  {
   "cell_type": "code",
   "execution_count": 62,
   "metadata": {
    "collapsed": true
   },
   "outputs": [
    {
     "data": {
      "text/plain": [
       "['t',\n",
       " 'e',\n",
       " 's',\n",
       " 't',\n",
       " ' ',\n",
       " 'f',\n",
       " 'i',\n",
       " 'l',\n",
       " 'e',\n",
       " ' ',\n",
       " 'p',\n",
       " 'o',\n",
       " 'c',\n",
       " 'h',\n",
       " 'i',\n",
       " ' ',\n",
       " 'c',\n",
       " 'a',\n",
       " 'r',\n",
       " 'a',\n",
       " 't',\n",
       " 't',\n",
       " 'e',\n",
       " 'r',\n",
       " 'i',\n",
       " '.',\n",
       " ' ',\n",
       " 'A',\n",
       " 'n',\n",
       " 'n',\n",
       " 'o',\n",
       " 'i',\n",
       " 'a',\n",
       " 'n',\n",
       " 'd',\n",
       " 'o',\n",
       " ' ',\n",
       " 's',\n",
       " 'u',\n",
       " 'p',\n",
       " 'e',\n",
       " 'r',\n",
       " ' ',\n",
       " 'b',\n",
       " 'o',\n",
       " 'r',\n",
       " 'i',\n",
       " 'n',\n",
       " 'g',\n",
       " ',',\n",
       " ' ',\n",
       " 'e',\n",
       " 't',\n",
       " ' ',\n",
       " 'f',\n",
       " 'a',\n",
       " 's',\n",
       " 't',\n",
       " 'i',\n",
       " 'd',\n",
       " 'i',\n",
       " 'o',\n",
       " '.',\n",
       " '\\n',\n",
       " 'P',\n",
       " 'a',\n",
       " 'r',\n",
       " 'o',\n",
       " 'l',\n",
       " 'e',\n",
       " ' ',\n",
       " 'a',\n",
       " ' ',\n",
       " 'c',\n",
       " 'a',\n",
       " 's',\n",
       " 'o',\n",
       " ' ',\n",
       " 'e',\n",
       " ' ',\n",
       " 'n',\n",
       " 'o',\n",
       " 'i',\n",
       " 'a',\n",
       " '.',\n",
       " ' ',\n",
       " 'E',\n",
       " ' ',\n",
       " 'p',\n",
       " 'o',\n",
       " 'i',\n",
       " ' ',\n",
       " 'c',\n",
       " 'o',\n",
       " 'n',\n",
       " 't',\n",
       " 'i',\n",
       " 'n',\n",
       " 'u',\n",
       " 'o',\n",
       " 'o',\n",
       " 'o',\n",
       " 'o',\n",
       " ' ',\n",
       " 'e',\n",
       " 'd',\n",
       " ' ',\n",
       " 'v',\n",
       " 'a',\n",
       " 'd',\n",
       " 'o',\n",
       " ' ',\n",
       " 'a',\n",
       " 'v',\n",
       " 'a',\n",
       " 'n',\n",
       " 't',\n",
       " 'i',\n",
       " ' ',\n",
       " 'f',\n",
       " 'i',\n",
       " 'n',\n",
       " 'o',\n",
       " ' ',\n",
       " 'a',\n",
       " ' ',\n",
       " 'q',\n",
       " 'w',\n",
       " 'e',\n",
       " 'r']"
      ]
     },
     "execution_count": 62,
     "metadata": {},
     "output_type": "execute_result"
    }
   ],
   "source": [
    "lisfile[0:textlen]"
   ]
  },
  {
   "cell_type": "code",
   "execution_count": 183,
   "metadata": {
    "scrolled": true
   },
   "outputs": [
    {
     "name": "stdout",
     "output_type": "stream",
     "text": [
      "62\n"
     ]
    }
   ],
   "source": [
    "crs = crosswithinlist('testlz.txt')"
   ]
  },
  {
   "cell_type": "code",
   "execution_count": 187,
   "metadata": {},
   "outputs": [
    {
     "data": {
      "text/plain": [
       "<matplotlib.axes._subplots.AxesSubplot at 0x11543a2e8>"
      ]
     },
     "execution_count": 187,
     "metadata": {},
     "output_type": "execute_result"
    },
    {
     "data": {
      "image/png": "[encoded data removed]",
      "text/plain": [
       "<Figure size 432x288 with 1 Axes>"
      ]
     },
     "metadata": {
      "needs_background": "light"
     },
     "output_type": "display_data"
    }
   ],
   "source": [
    "crs.plot()"
   ]
  },
  {
   "cell_type": "code",
   "execution_count": 157,
   "metadata": {},
   "outputs": [
    {
     "ename": "NameError",
     "evalue": "name 'listfile' is not defined",
     "output_type": "error",
     "traceback": [
      "\u001b[0;31m---------------------------------------------------------------------------\u001b[0m",
      "\u001b[0;31mNameError\u001b[0m                                 Traceback (most recent call last)",
      "\u001b[0;32m<ipython-input-157-61423310d00c>\u001b[0m in \u001b[0;36m<module>\u001b[0;34m\u001b[0m\n\u001b[0;32m----> 1\u001b[0;31m \u001b[0;34m(\u001b[0m\u001b[0mlen\u001b[0m\u001b[0;34m(\u001b[0m\u001b[0mlistfile\u001b[0m\u001b[0;34m)\u001b[0m   \u001b[0;34m//\u001b[0m \u001b[0mslideW\u001b[0m \u001b[0;34m)\u001b[0m\u001b[0;34m\u001b[0m\u001b[0;34m\u001b[0m\u001b[0m\n\u001b[0m",
      "\u001b[0;31mNameError\u001b[0m: name 'listfile' is not defined"
     ]
    }
   ],
   "source": [
    "(len(listfile)   // slideW )"
   ]
  },
  {
   "cell_type": "code",
   "execution_count": 129,
   "metadata": {},
   "outputs": [
    {
     "data": {
      "text/html": [
       "<div>\n",
       "<style scoped>\n",
       "    .dataframe tbody tr th:only-of-type {\n",
       "        vertical-align: middle;\n",
       "    }\n",
       "\n",
       "    .dataframe tbody tr th {\n",
       "        vertical-align: top;\n",
       "    }\n",
       "\n",
       "    .dataframe thead th {\n",
       "        text-align: right;\n",
       "    }\n",
       "</style>\n",
       "<table border=\"1\" class=\"dataframe\">\n",
       "  <thead>\n",
       "    <tr style=\"text-align: right;\">\n",
       "      <th></th>\n",
       "      <th>0</th>\n",
       "    </tr>\n",
       "  </thead>\n",
       "  <tbody>\n",
       "    <tr>\n",
       "      <td>0</td>\n",
       "      <td>12</td>\n",
       "    </tr>\n",
       "  </tbody>\n",
       "</table>\n",
       "</div>"
      ],
      "text/plain": [
       "    0\n",
       "0  12"
      ]
     },
     "execution_count": 129,
     "metadata": {},
     "output_type": "execute_result"
    }
   ],
   "source": [
    "df.append([12])"
   ]
  },
  {
   "cell_type": "code",
   "execution_count": null,
   "metadata": {},
   "outputs": [],
   "source": []
  },
  {
   "cell_type": "code",
   "execution_count": 152,
   "metadata": {},
   "outputs": [
    {
     "ename": "SyntaxError",
     "evalue": "invalid syntax (<ipython-input-152-6e28223d7386>, line 1)",
     "output_type": "error",
     "traceback": [
      "\u001b[0;36m  File \u001b[0;32m\"<ipython-input-152-6e28223d7386>\"\u001b[0;36m, line \u001b[0;32m1\u001b[0m\n\u001b[0;31m    [1:3]\u001b[0m\n\u001b[0m      ^\u001b[0m\n\u001b[0;31mSyntaxError\u001b[0m\u001b[0;31m:\u001b[0m invalid syntax\n"
     ]
    }
   ],
   "source": [
    "[1:3]"
   ]
  },
  {
   "cell_type": "code",
   "execution_count": 81,
   "metadata": {},
   "outputs": [],
   "source": [
    "t1 = random_text(5000)\n",
    "t2 = random_text(5000)"
   ]
  },
  {
   "cell_type": "code",
   "execution_count": 82,
   "metadata": {},
   "outputs": [
    {
     "name": "stdout",
     "output_type": "stream",
     "text": [
      "4500 \n",
      " 0.8281081081081081\n"
     ]
    }
   ],
   "source": [
    "print(ind,'\\n',compare2texts(t1,t2))"
   ]
  },
  {
   "cell_type": "code",
   "execution_count": 93,
   "metadata": {},
   "outputs": [
    {
     "data": {
      "text/html": [
       "<div>\n",
       "<style scoped>\n",
       "    .dataframe tbody tr th:only-of-type {\n",
       "        vertical-align: middle;\n",
       "    }\n",
       "\n",
       "    .dataframe tbody tr th {\n",
       "        vertical-align: top;\n",
       "    }\n",
       "\n",
       "    .dataframe thead th {\n",
       "        text-align: right;\n",
       "    }\n",
       "</style>\n",
       "<table border=\"1\" class=\"dataframe\">\n",
       "  <thead>\n",
       "    <tr style=\"text-align: right;\">\n",
       "      <th></th>\n",
       "      <th>0</th>\n",
       "    </tr>\n",
       "  </thead>\n",
       "  <tbody>\n",
       "    <tr>\n",
       "      <td>0</td>\n",
       "      <td>12</td>\n",
       "    </tr>\n",
       "    <tr>\n",
       "      <td>1</td>\n",
       "      <td>34</td>\n",
       "    </tr>\n",
       "  </tbody>\n",
       "</table>\n",
       "</div>"
      ],
      "text/plain": [
       "    0\n",
       "0  12\n",
       "1  34"
      ]
     },
     "execution_count": 93,
     "metadata": {},
     "output_type": "execute_result"
    }
   ],
   "source": [
    "import pandas as pd \n",
    "df = pd.DataFrame()\n",
    "df.append([12,34])"
   ]
  },
  {
   "cell_type": "code",
   "execution_count": 86,
   "metadata": {},
   "outputs": [],
   "source": [
    "def noia(a, b=13):\n",
    "    print(a, b)"
   ]
  },
  {
   "cell_type": "code",
   "execution_count": 88,
   "metadata": {},
   "outputs": [
    {
     "name": "stdout",
     "output_type": "stream",
     "text": [
      "1 11\n"
     ]
    }
   ],
   "source": [
    "noia(1,11)"
   ]
  },
  {
   "cell_type": "code",
   "execution_count": null,
   "metadata": {},
   "outputs": [],
   "source": []
  },
  {
   "cell_type": "code",
   "execution_count": null,
   "metadata": {},
   "outputs": [],
   "source": []
  },
  {
   "cell_type": "code",
   "execution_count": null,
   "metadata": {},
   "outputs": [],
   "source": []
  },
  {
   "cell_type": "code",
   "execution_count": null,
   "metadata": {},
   "outputs": [],
   "source": []
  },
  {
   "cell_type": "code",
   "execution_count": null,
   "metadata": {},
   "outputs": [],
   "source": []
  },
  {
   "cell_type": "code",
   "execution_count": null,
   "metadata": {},
   "outputs": [],
   "source": [
    "def crossentropy(filename, ind):\n",
    "\n",
    "    with open(filename, \"r\"):\n",
    "        listdraft = list(f.read())\n",
    "\n",
    "\n",
    "\n",
    "\n",
    "    return crsstrpy"
   ]
  }
 ],
 "metadata": {
  "kernelspec": {
   "display_name": "Python 3",
   "language": "python",
   "name": "python3"
  },
  "language_info": {
   "codemirror_mode": {
    "name": "ipython",
    "version": 3
   },
   "file_extension": ".py",
   "mimetype": "text/x-python",
   "name": "python",
   "nbconvert_exporter": "python",
   "pygments_lexer": "ipython3",
   "version": "3.7.1"
  }
 },
 "nbformat": 4,
 "nbformat_minor": 2
}
