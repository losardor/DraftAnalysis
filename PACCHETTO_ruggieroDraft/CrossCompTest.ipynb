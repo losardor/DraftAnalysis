{
 "cells": [
  {
   "cell_type": "code",
   "execution_count": 135,
   "metadata": {},
   "outputs": [],
   "source": [
    "def twinLength(text,d,i):\n",
    "    t=0\n",
    "    if i<d:\n",
    "        print(\"indexes in wrong order\")\n",
    "        return -1\n",
    "    if i==d:\n",
    "        return 0\n",
    "    for j in range(0,min(i-d,len(text)-i)):\n",
    "        #print(str(d+j)+\" -- \"+ str(j+i))\n",
    "        if text[d+j]==text[j+i]:\n",
    "            t=t+1\n",
    "        else:\n",
    "            return t\n",
    "        \n",
    "    return t"
   ]
  },
  {
   "cell_type": "code",
   "execution_count": 136,
   "metadata": {},
   "outputs": [],
   "source": [
    "def twinStart_N_length(text,i):\n",
    "    d_t_max=i\n",
    "    t_max=0\n",
    "    \n",
    "    for j in range(0,i+1):\n",
    "        #print(str(text[j])+\"==\"+str(text[i]))\n",
    "        if text[j]==text[i]:\n",
    "            d=j\n",
    "            t=twinLength(text,d,i)\n",
    "            \n",
    "            if t>t_max:\n",
    "                t_max = t\n",
    "                d_t_max = d\n",
    "                \n",
    "    return (d_t_max,t_max)"
   ]
  },
  {
   "cell_type": "code",
   "execution_count": 137,
   "metadata": {},
   "outputs": [
    {
     "data": {
      "text/plain": [
       "(1, 0)"
      ]
     },
     "execution_count": 137,
     "metadata": {},
     "output_type": "execute_result"
    }
   ],
   "source": [
    "twinStart_N_length(text,1)"
   ]
  },
  {
   "cell_type": "code",
   "execution_count": 209,
   "metadata": {},
   "outputs": [],
   "source": [
    "text =  ['a', 'b', 'a','a','b','b','a','a','b','a']\n",
    "text2 = ['a', 'a', 'a', 'b', 'b', 'a', 'b', 'b', 'a', 'b']"
   ]
  },
  {
   "cell_type": "code",
   "execution_count": 224,
   "metadata": {},
   "outputs": [],
   "source": [
    "import random\n",
    "def random_text(N):\n",
    "    test = []\n",
    "    char_dict={0:'a', 1:'b'}\n",
    "    \n",
    "    for i in range(0,N):\n",
    "        test.append(char_dict[random.randint(0,1)])\n",
    "    return test"
   ]
  },
  {
   "cell_type": "code",
   "execution_count": 210,
   "metadata": {},
   "outputs": [],
   "source": [
    "def compress(text):\n",
    "    j=0\n",
    "    i = 0\n",
    "    text_new = []\n",
    "    while(i<len(text)):\n",
    "        d,l = twinStart_N_length(text, i)\n",
    "        if l == 0:\n",
    "            elem = text[i]\n",
    "        else:\n",
    "            elem = (i-d,l)\n",
    "        text_new.append(elem)\n",
    "        i+=max(l,1)\n",
    "        j+=1\n",
    "    return text_new"
   ]
  },
  {
   "cell_type": "code",
   "execution_count": 215,
   "metadata": {},
   "outputs": [],
   "source": [
    "def size_compresse(text):\n",
    "    siz = 0\n",
    "    for elem in text:\n",
    "        if type(elem) is str:\n",
    "            #print(str(elem)+' is a string')\n",
    "            siz+=8\n",
    "        elif type(elem) is tuple:\n",
    "            #print(str(elem)+' is a tuple')\n",
    "            siz+=32\n",
    "        else:\n",
    "            print('unrecognised element error')\n",
    "            return None\n",
    "    return siz"
   ]
  },
  {
   "cell_type": "code",
   "execution_count": 240,
   "metadata": {},
   "outputs": [
    {
     "name": "stdout",
     "output_type": "stream",
     "text": [
      "4900\n"
     ]
    }
   ],
   "source": [
    "import time\n",
    "t = []\n",
    "for N in range(4900,5000, 100):\n",
    "    print(N)\n",
    "    \n",
    "    t1 = random_text(N)\n",
    "    t2 = random_text(N)\n",
    "    start = time.time()\n",
    "    C12=compress(t1+t2)\n",
    "    H12 = size_compresse(C12)\n",
    "    C2=compress(t2)\n",
    "    H2 = size_compresse(C2)\n",
    "    C1 = compress(t1)\n",
    "    H1 = size_compresse(C1)\n",
    "    C11 = compress(t1+t1)\n",
    "    H11 = size_compresse(C11)\n",
    "    t.append(time.time()-start)"
   ]
  },
  {
   "cell_type": "code",
   "execution_count": 238,
   "metadata": {},
   "outputs": [
    {
     "data": {
      "text/plain": [
       "[<matplotlib.lines.Line2D at 0x112e33290>]"
      ]
     },
     "execution_count": 238,
     "metadata": {},
     "output_type": "execute_result"
    },
    {
     "data": {
      "image/png": "[encoded data removed]",
      "text/plain": [
       "<Figure size 432x288 with 1 Axes>"
      ]
     },
     "metadata": {
      "needs_background": "light"
     },
     "output_type": "display_data"
    }
   ],
   "source": [
    "import matplotlib.pyplot as plt\n",
    "plt.plot(t)"
   ]
  },
  {
   "cell_type": "code",
   "execution_count": 241,
   "metadata": {},
   "outputs": [
    {
     "name": "stdout",
     "output_type": "stream",
     "text": [
      "[5.1199469566345215]\n"
     ]
    }
   ],
   "source": [
    "print(t)"
   ]
  },
  {
   "cell_type": "code",
   "execution_count": 216,
   "metadata": {},
   "outputs": [
    {
     "data": {
      "text/plain": [
       "0.2222222222222222"
      ]
     },
     "execution_count": 216,
     "metadata": {},
     "output_type": "execute_result"
    }
   ],
   "source": [
    "( size_compresse(compress(text+text))-size_compresse(compress(text)) ) /size_compresse(compress(text))"
   ]
  },
  {
   "cell_type": "code",
   "execution_count": 219,
   "metadata": {},
   "outputs": [
    {
     "name": "stdout",
     "output_type": "stream",
     "text": [
      "['a', 'b', (2, 1), (3, 2), (4, 4), (7, 3), (10, 8)]\n",
      "['a', 'b', (2, 1), (3, 2), (4, 4), (9, 1)]\n"
     ]
    }
   ],
   "source": [
    "print(compress(text+text))\n",
    "print(compress(text))"
   ]
  },
  {
   "cell_type": "code",
   "execution_count": 162,
   "metadata": {},
   "outputs": [],
   "source": [
    "def Dizionario(text):\n",
    "    i=0\n",
    "    N = 0\n",
    "    D = {}\n",
    "    while(i<len(text)):\n",
    "        print(i)\n",
    "        d,l = twinStart_N_length(text, i)\n",
    "        if l == 0:\n",
    "            D[N] = text[i]\n",
    "            N+=1\n",
    "            i+=1\n",
    "        else:\n",
    "            if l==1:\n",
    "                i+=1\n",
    "            else:\n",
    "                D[N] = text[i:i+l]\n",
    "                N+=1\n",
    "                i+=l\n",
    "                \n",
    "    return D"
   ]
  },
  {
   "cell_type": "code",
   "execution_count": 164,
   "metadata": {},
   "outputs": [
    {
     "name": "stdout",
     "output_type": "stream",
     "text": [
      "0\n",
      "1\n",
      "2\n",
      "3\n",
      "5\n",
      "9\n",
      "{0: 0, 1: 1, 2: [0, 1], 3: [1, 0, 0, 1]}\n"
     ]
    }
   ],
   "source": [
    "print(Dizionario(text))"
   ]
  },
  {
   "cell_type": "code",
   "execution_count": null,
   "metadata": {},
   "outputs": [],
   "source": []
  }
 ],
 "metadata": {
  "kernelspec": {
   "display_name": "Python 3",
   "language": "python",
   "name": "python3"
  },
  "language_info": {
   "codemirror_mode": {
    "name": "ipython",
    "version": 3
   },
   "file_extension": ".py",
   "mimetype": "text/x-python",
   "name": "python",
   "nbconvert_exporter": "python",
   "pygments_lexer": "ipython3",
   "version": "3.7.4"
  }
 },
 "nbformat": 4,
 "nbformat_minor": 2
}
