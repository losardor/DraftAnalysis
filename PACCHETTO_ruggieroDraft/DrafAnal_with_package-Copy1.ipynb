{
 "cells": [
  {
   "cell_type": "code",
   "execution_count": 55,
   "metadata": {},
   "outputs": [],
   "source": [
    "import draftAnal as DA\n",
    "import os\n",
    "\n",
    "DA.resetFolder(\"./Data/WORKING\")"
   ]
  },
  {
   "cell_type": "code",
   "execution_count": 56,
   "metadata": {},
   "outputs": [],
   "source": [
    "import matplotlib.pyplot as plt\n",
    "from datetime import datetime as dt\n",
    "import pandas as pd\n",
    "import numpy as np\n",
    "import pickle as pk"
   ]
  },
  {
   "cell_type": "markdown",
   "metadata": {},
   "source": [
    "## Determine Composition of the Data from INPUT folder"
   ]
  },
  {
   "cell_type": "code",
   "execution_count": 57,
   "metadata": {},
   "outputs": [
    {
     "name": "stdout",
     "output_type": "stream",
     "text": [
      "COLLIAUX\n",
      "LORETO\n",
      "UBALDI\n",
      "MONECHI\n",
      "BENTKOWSKI\n",
      "PULLANO\n",
      "AOUAMEUR\n",
      "VANTRIJP\n",
      "ZAVOJANNI\n",
      "GRAVINO\n",
      "TANI\n",
      "COLIZZA\n",
      "POLETTO\n",
      "PINOTTI\n",
      "PETRI\n",
      "VALDANO\n",
      "LONDEI\n",
      "HANAPPE\n",
      "AHNE\n",
      "ROUX\n",
      "TEMIME\n"
     ]
    }
   ],
   "source": [
    "Data = []\n",
    "\n",
    "for i, directory in enumerate(next(os.walk('./Data/INPUT/'))[1]):\n",
    "    Data.append(DA.author(directory.lower()))"
   ]
  },
  {
   "cell_type": "markdown",
   "metadata": {},
   "source": [
    "## Clean the filenames in order to be easyer to use in the future"
   ]
  },
  {
   "cell_type": "code",
   "execution_count": 58,
   "metadata": {},
   "outputs": [],
   "source": [
    "for i, author in enumerate(Data):\n",
    "    author.cleanfilenames()\n",
    "    Data[i] = author"
   ]
  },
  {
   "cell_type": "code",
   "execution_count": 59,
   "metadata": {},
   "outputs": [],
   "source": [
    "for i, author in enumerate(Data):\n",
    "    for j,draft in enumerate(author.drafts):\n",
    "        draft.CountWords()\n",
    "        author.drafts[j] = draft\n",
    "    Data[i] = author"
   ]
  },
  {
   "cell_type": "markdown",
   "metadata": {},
   "source": [
    "## Calculate the cross compressibility within drafts of a same author"
   ]
  },
  {
   "cell_type": "code",
   "execution_count": null,
   "metadata": {
    "scrolled": true
   },
   "outputs": [],
   "source": [
    "for i, author in enumerate(Data):\n",
    "    author.createContigs()\n",
    "    Data[i] = author"
   ]
  },
  {
   "cell_type": "code",
   "execution_count": null,
   "metadata": {
    "scrolled": true
   },
   "outputs": [],
   "source": [
    "for i, author in enumerate(Data):\n",
    "    print(author.name)\n",
    "    author.slide(C=True)\n",
    "    Data[i] = author"
   ]
  },
  {
   "cell_type": "code",
   "execution_count": null,
   "metadata": {},
   "outputs": [],
   "source": [
    "for i, author in enumerate(Data):\n",
    "    author.FindLastMacro()\n",
    "    Data[i]=author"
   ]
  },
  {
   "cell_type": "markdown",
   "metadata": {},
   "source": [
    "## Save Data"
   ]
  },
  {
   "cell_type": "code",
   "execution_count": null,
   "metadata": {},
   "outputs": [],
   "source": [
    "pk.dump( Data, open( \"./Data/OUTPUT/Data_11_09.p\", \"wb\" ) )"
   ]
  },
  {
   "cell_type": "markdown",
   "metadata": {},
   "source": [
    "## Plot the cross compressibility for the last draft in the author work"
   ]
  },
  {
   "cell_type": "code",
   "execution_count": null,
   "metadata": {},
   "outputs": [],
   "source": [
    "x = np.linspace(0, 5, 100)\n",
    "cmap = plt.get_cmap('jet')\n",
    "fig = plt.figure(figsize=(14,6))\n",
    "ax = fig.add_axes([1,1,1,1])\n",
    "N = len(Data)\n",
    "for i,author in enumerate(Data):\n",
    "    color = cmap(float(i)/N)\n",
    "    author.drafts[last_draft[author.name]].contigData.plot(ax = ax, x='Edit_norm', y='distance', c=color, label=author.name)\n",
    "    ax.legend(loc='center left', bbox_to_anchor=(1, 0.5))\n",
    "plt.savefig('LastDraftCE.png', bbox_inches='tight',format='png')"
   ]
  },
  {
   "cell_type": "code",
   "execution_count": null,
   "metadata": {
    "scrolled": true
   },
   "outputs": [],
   "source": [
    "Data[5].drafts[last_draft['pullano']].contigData"
   ]
  },
  {
   "cell_type": "code",
   "execution_count": null,
   "metadata": {},
   "outputs": [],
   "source": [
    "import datetime as datetime\n",
    "x = np.linspace(0, 5, 100)\n",
    "cmap = plt.get_cmap('jet')\n",
    "fig = plt.figure(figsize=(14,6))\n",
    "ax = fig.add_axes([1,1,1,1])\n",
    "N = len(Data)\n",
    "for i,author in enumerate(Data):\n",
    "    color = cmap(float(i)/N)\n",
    "    author.drafts[last_draft[author.name]].contigData.reset_index().plot(ax = ax, x='datetime', y='distance', c=color, label=author.name)\n",
    "ax.legend(loc='center left', bbox_to_anchor=(1, 0.5))\n",
    "ax.set_xlim([datetime.datetime(2019, 1, 30, 10, 00), datetime.datetime(2019, 1, 31, 20,00)])\n",
    "plt.savefig('LastDraftCErealTime.png', bbox_inches='tight',format='png')"
   ]
  },
  {
   "cell_type": "markdown",
   "metadata": {},
   "source": [
    "## Plot different properties of the cross compressibility within drafts"
   ]
  },
  {
   "cell_type": "code",
   "execution_count": null,
   "metadata": {},
   "outputs": [],
   "source": [
    "DA.plot_sliding_prop(Data, 'avg')"
   ]
  },
  {
   "cell_type": "code",
   "execution_count": null,
   "metadata": {},
   "outputs": [],
   "source": [
    "DA.plot_sliding_prop(Data, 'var')"
   ]
  },
  {
   "cell_type": "code",
   "execution_count": null,
   "metadata": {},
   "outputs": [],
   "source": [
    "DA.plot_sliding_prop(Data, 'var1')"
   ]
  },
  {
   "cell_type": "code",
   "execution_count": null,
   "metadata": {
    "scrolled": false
   },
   "outputs": [],
   "source": [
    "import seaborn as sns\n",
    "sns.set(rc={'figure.figsize':(16,9)})\n",
    "sns.set_style(\"white\")\n",
    "sns.set_context(\"poster\")\n",
    "for i,author in enumerate(Data[:6]):\n",
    "    df = author.drafts[author.Last1].sliding.data\n",
    "    df = df.reset_index()\n",
    "    df['X'] = df['index']*50\n",
    "    df['Edit1'] =df[0]\n",
    "    del(df[0])\n",
    "    df['Edit2'] = author.drafts[author.Last2].sliding.data[0]\n",
    "    df['Edit3'] = author.drafts[author.Last3].sliding.data[0]\n",
    "    df['Edit4'] = author.drafts[author.Last4].sliding.data[0]\n",
    "    df['Author'] = author.name\n",
    "\n",
    "\n",
    "    df = df.melt(id_vars=['index', 'X', 'Author'], var_name='Edit', value_name='CrossEnt')\n",
    "    g=sns.relplot( x=\"X\", y='CrossEnt', kind=\"line\", data=df, hue='Edit',\n",
    "                  height=8.27, aspect=11.7/8.27)\n",
    "    sns.despine()\n",
    "    plt.title(author.name)\n",
    "    \n",
    "    g=sns.relplot( x=\"X\", y='CrossEnt', kind=\"line\", data=df,\n",
    "                  height=8.27, aspect=11.7/8.27)\n",
    "    sns.despine()\n",
    "    plt.title(author.name)"
   ]
  },
  {
   "cell_type": "code",
   "execution_count": null,
   "metadata": {},
   "outputs": [],
   "source": []
  },
  {
   "cell_type": "code",
   "execution_count": null,
   "metadata": {},
   "outputs": [],
   "source": []
  }
 ],
 "metadata": {
  "kernelspec": {
   "display_name": "Python 3",
   "language": "python",
   "name": "python3"
  },
  "language_info": {
   "codemirror_mode": {
    "name": "ipython",
    "version": 3
   },
   "file_extension": ".py",
   "mimetype": "text/x-python",
   "name": "python",
   "nbconvert_exporter": "python",
   "pygments_lexer": "ipython3",
   "version": "3.7.4"
  }
 },
 "nbformat": 4,
 "nbformat_minor": 2
}
