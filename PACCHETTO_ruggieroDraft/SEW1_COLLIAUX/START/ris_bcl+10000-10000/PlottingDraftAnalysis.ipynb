{
 "cells": [
  {
   "cell_type": "code",
   "execution_count": 56,
   "metadata": {},
   "outputs": [],
   "source": [
    "import matplotlib.pyplot as plt\n",
    "import pandas as pd\n",
    "import numpy as np\n",
    "\n",
    "%matplotlib inline"
   ]
  },
  {
   "cell_type": "code",
   "execution_count": 69,
   "metadata": {},
   "outputs": [
    {
     "data": {
      "text/html": [
       "<div>\n",
       "<style scoped>\n",
       "    .dataframe tbody tr th:only-of-type {\n",
       "        vertical-align: middle;\n",
       "    }\n",
       "\n",
       "    .dataframe tbody tr th {\n",
       "        vertical-align: top;\n",
       "    }\n",
       "\n",
       "    .dataframe thead th {\n",
       "        text-align: right;\n",
       "    }\n",
       "</style>\n",
       "<table border=\"1\" class=\"dataframe\">\n",
       "  <thead>\n",
       "    <tr style=\"text-align: right;\">\n",
       "      <th></th>\n",
       "      <th></th>\n",
       "      <th>SEW1_COLLIAUX_1</th>\n",
       "      <th>SEW1_COLLIAUX_2</th>\n",
       "      <th>SEW1_COLLIAUX_3</th>\n",
       "      <th>SEW1_COLLIAUX_4</th>\n",
       "      <th>Unnamed: 4</th>\n",
       "    </tr>\n",
       "  </thead>\n",
       "  <tbody>\n",
       "    <tr>\n",
       "      <th>SEW1_COLLIAUX_1</th>\n",
       "      <th>NaN</th>\n",
       "      <td>0.000000</td>\n",
       "      <td>-2.635423</td>\n",
       "      <td>-4.094205</td>\n",
       "      <td>-1.237127</td>\n",
       "      <td>NaN</td>\n",
       "    </tr>\n",
       "    <tr>\n",
       "      <th>SEW1_COLLIAUX_2</th>\n",
       "      <th>NaN</th>\n",
       "      <td>-2.635423</td>\n",
       "      <td>0.000000</td>\n",
       "      <td>-6.729628</td>\n",
       "      <td>-1.572517</td>\n",
       "      <td>NaN</td>\n",
       "    </tr>\n",
       "    <tr>\n",
       "      <th>SEW1_COLLIAUX_3</th>\n",
       "      <th>NaN</th>\n",
       "      <td>-4.094205</td>\n",
       "      <td>-6.729628</td>\n",
       "      <td>0.000000</td>\n",
       "      <td>-1.813397</td>\n",
       "      <td>NaN</td>\n",
       "    </tr>\n",
       "    <tr>\n",
       "      <th>SEW1_COLLIAUX_4</th>\n",
       "      <th>NaN</th>\n",
       "      <td>-1.237127</td>\n",
       "      <td>-1.572517</td>\n",
       "      <td>-1.813397</td>\n",
       "      <td>0.000000</td>\n",
       "      <td>NaN</td>\n",
       "    </tr>\n",
       "  </tbody>\n",
       "</table>\n",
       "</div>"
      ],
      "text/plain": [
       "                    SEW1_COLLIAUX_1 SEW1_COLLIAUX_2  SEW1_COLLIAUX_3  \\\n",
       "SEW1_COLLIAUX_1 NaN        0.000000       -2.635423        -4.094205   \n",
       "SEW1_COLLIAUX_2 NaN       -2.635423        0.000000        -6.729628   \n",
       "SEW1_COLLIAUX_3 NaN       -4.094205       -6.729628         0.000000   \n",
       "SEW1_COLLIAUX_4 NaN       -1.237127       -1.572517        -1.813397   \n",
       "\n",
       "                     SEW1_COLLIAUX_4  Unnamed: 4  \n",
       "SEW1_COLLIAUX_1 NaN        -1.237127         NaN  \n",
       "SEW1_COLLIAUX_2 NaN        -1.572517         NaN  \n",
       "SEW1_COLLIAUX_3 NaN        -1.813397         NaN  \n",
       "SEW1_COLLIAUX_4 NaN         0.000000         NaN  "
      ]
     },
     "execution_count": 69,
     "metadata": {},
     "output_type": "execute_result"
    }
   ],
   "source": [
    "df = pd.read_csv('dist2.dat', sep=' ')\n",
    "df[0:4]"
   ]
  },
  {
   "cell_type": "code",
   "execution_count": 70,
   "metadata": {},
   "outputs": [
    {
     "data": {
      "text/plain": [
       "SEW1_COLLIAUX_1    float64\n",
       "SEW1_COLLIAUX_2    float64\n",
       "SEW1_COLLIAUX_3    float64\n",
       "SEW1_COLLIAUX_4    float64\n",
       "dtype: object"
      ]
     },
     "execution_count": 70,
     "metadata": {},
     "output_type": "execute_result"
    }
   ],
   "source": [
    "df = df[0:4]\n",
    "df = df.reset_index().set_index('level_0').drop(axis=1,columns=['level_1', 'Unnamed: 4'])\n",
    "df['SEW1_COLLIAUX_1'] = pd.to_numeric(df['SEW1_COLLIAUX_1'])\n",
    "df['SEW1_COLLIAUX_2'] = pd.to_numeric(df['SEW1_COLLIAUX_2'])\n",
    "df.dtypes"
   ]
  },
  {
   "cell_type": "code",
   "execution_count": 71,
   "metadata": {},
   "outputs": [
    {
     "data": {
      "text/plain": [
       "<matplotlib.axes._subplots.AxesSubplot at 0x1032f5190>"
      ]
     },
     "execution_count": 71,
     "metadata": {},
     "output_type": "execute_result"
    },
    {
     "data": {
      "image/png": "[encoded data removed]",
      "text/plain": [
       "<Figure size 432x288 with 2 Axes>"
      ]
     },
     "metadata": {
      "needs_background": "light"
     },
     "output_type": "display_data"
    }
   ],
   "source": [
    "import seaborn as sns\n",
    "\n",
    "sns.heatmap(df, annot=True)"
   ]
  },
  {
   "cell_type": "code",
   "execution_count": 72,
   "metadata": {},
   "outputs": [
    {
     "data": {
      "text/html": [
       "<style  type=\"text/css\" >\n",
       "    #T_bd7571ee_6ce7_11e9_b7fc_600308a3dbc0row0_col0 {\n",
       "            background-color:  #ffff66;\n",
       "            color:  #000000;\n",
       "        }    #T_bd7571ee_6ce7_11e9_b7fc_600308a3dbc0row0_col1 {\n",
       "            background-color:  #9bcd66;\n",
       "            color:  #000000;\n",
       "        }    #T_bd7571ee_6ce7_11e9_b7fc_600308a3dbc0row0_col2 {\n",
       "            background-color:  #64b266;\n",
       "            color:  #000000;\n",
       "        }    #T_bd7571ee_6ce7_11e9_b7fc_600308a3dbc0row0_col3 {\n",
       "            background-color:  #51a866;\n",
       "            color:  #000000;\n",
       "        }    #T_bd7571ee_6ce7_11e9_b7fc_600308a3dbc0row1_col0 {\n",
       "            background-color:  #5bad66;\n",
       "            color:  #000000;\n",
       "        }    #T_bd7571ee_6ce7_11e9_b7fc_600308a3dbc0row1_col1 {\n",
       "            background-color:  #ffff66;\n",
       "            color:  #000000;\n",
       "        }    #T_bd7571ee_6ce7_11e9_b7fc_600308a3dbc0row1_col2 {\n",
       "            background-color:  #008066;\n",
       "            color:  #f1f1f1;\n",
       "        }    #T_bd7571ee_6ce7_11e9_b7fc_600308a3dbc0row1_col3 {\n",
       "            background-color:  #229066;\n",
       "            color:  #000000;\n",
       "        }    #T_bd7571ee_6ce7_11e9_b7fc_600308a3dbc0row2_col0 {\n",
       "            background-color:  #008066;\n",
       "            color:  #f1f1f1;\n",
       "        }    #T_bd7571ee_6ce7_11e9_b7fc_600308a3dbc0row2_col1 {\n",
       "            background-color:  #008066;\n",
       "            color:  #f1f1f1;\n",
       "        }    #T_bd7571ee_6ce7_11e9_b7fc_600308a3dbc0row2_col2 {\n",
       "            background-color:  #ffff66;\n",
       "            color:  #000000;\n",
       "        }    #T_bd7571ee_6ce7_11e9_b7fc_600308a3dbc0row2_col3 {\n",
       "            background-color:  #008066;\n",
       "            color:  #f1f1f1;\n",
       "        }    #T_bd7571ee_6ce7_11e9_b7fc_600308a3dbc0row3_col0 {\n",
       "            background-color:  #b2d866;\n",
       "            color:  #000000;\n",
       "        }    #T_bd7571ee_6ce7_11e9_b7fc_600308a3dbc0row3_col1 {\n",
       "            background-color:  #c4e266;\n",
       "            color:  #000000;\n",
       "        }    #T_bd7571ee_6ce7_11e9_b7fc_600308a3dbc0row3_col2 {\n",
       "            background-color:  #bbdd66;\n",
       "            color:  #000000;\n",
       "        }    #T_bd7571ee_6ce7_11e9_b7fc_600308a3dbc0row3_col3 {\n",
       "            background-color:  #ffff66;\n",
       "            color:  #000000;\n",
       "        }</style><table id=\"T_bd7571ee_6ce7_11e9_b7fc_600308a3dbc0\" ><thead>    <tr>        <th class=\"blank level0\" ></th>        <th class=\"col_heading level0 col0\" >SEW1_COLLIAUX_1</th>        <th class=\"col_heading level0 col1\" >SEW1_COLLIAUX_2</th>        <th class=\"col_heading level0 col2\" >SEW1_COLLIAUX_3</th>        <th class=\"col_heading level0 col3\" >SEW1_COLLIAUX_4</th>    </tr>    <tr>        <th class=\"index_name level0\" >level_0</th>        <th class=\"blank\" ></th>        <th class=\"blank\" ></th>        <th class=\"blank\" ></th>        <th class=\"blank\" ></th>    </tr></thead><tbody>\n",
       "                <tr>\n",
       "                        <th id=\"T_bd7571ee_6ce7_11e9_b7fc_600308a3dbc0level0_row0\" class=\"row_heading level0 row0\" >SEW1_COLLIAUX_1</th>\n",
       "                        <td id=\"T_bd7571ee_6ce7_11e9_b7fc_600308a3dbc0row0_col0\" class=\"data row0 col0\" >0</td>\n",
       "                        <td id=\"T_bd7571ee_6ce7_11e9_b7fc_600308a3dbc0row0_col1\" class=\"data row0 col1\" >-2.63542</td>\n",
       "                        <td id=\"T_bd7571ee_6ce7_11e9_b7fc_600308a3dbc0row0_col2\" class=\"data row0 col2\" >-4.09421</td>\n",
       "                        <td id=\"T_bd7571ee_6ce7_11e9_b7fc_600308a3dbc0row0_col3\" class=\"data row0 col3\" >-1.23713</td>\n",
       "            </tr>\n",
       "            <tr>\n",
       "                        <th id=\"T_bd7571ee_6ce7_11e9_b7fc_600308a3dbc0level0_row1\" class=\"row_heading level0 row1\" >SEW1_COLLIAUX_2</th>\n",
       "                        <td id=\"T_bd7571ee_6ce7_11e9_b7fc_600308a3dbc0row1_col0\" class=\"data row1 col0\" >-2.63542</td>\n",
       "                        <td id=\"T_bd7571ee_6ce7_11e9_b7fc_600308a3dbc0row1_col1\" class=\"data row1 col1\" >0</td>\n",
       "                        <td id=\"T_bd7571ee_6ce7_11e9_b7fc_600308a3dbc0row1_col2\" class=\"data row1 col2\" >-6.72963</td>\n",
       "                        <td id=\"T_bd7571ee_6ce7_11e9_b7fc_600308a3dbc0row1_col3\" class=\"data row1 col3\" >-1.57252</td>\n",
       "            </tr>\n",
       "            <tr>\n",
       "                        <th id=\"T_bd7571ee_6ce7_11e9_b7fc_600308a3dbc0level0_row2\" class=\"row_heading level0 row2\" >SEW1_COLLIAUX_3</th>\n",
       "                        <td id=\"T_bd7571ee_6ce7_11e9_b7fc_600308a3dbc0row2_col0\" class=\"data row2 col0\" >-4.09421</td>\n",
       "                        <td id=\"T_bd7571ee_6ce7_11e9_b7fc_600308a3dbc0row2_col1\" class=\"data row2 col1\" >-6.72963</td>\n",
       "                        <td id=\"T_bd7571ee_6ce7_11e9_b7fc_600308a3dbc0row2_col2\" class=\"data row2 col2\" >0</td>\n",
       "                        <td id=\"T_bd7571ee_6ce7_11e9_b7fc_600308a3dbc0row2_col3\" class=\"data row2 col3\" >-1.8134</td>\n",
       "            </tr>\n",
       "            <tr>\n",
       "                        <th id=\"T_bd7571ee_6ce7_11e9_b7fc_600308a3dbc0level0_row3\" class=\"row_heading level0 row3\" >SEW1_COLLIAUX_4</th>\n",
       "                        <td id=\"T_bd7571ee_6ce7_11e9_b7fc_600308a3dbc0row3_col0\" class=\"data row3 col0\" >-1.23713</td>\n",
       "                        <td id=\"T_bd7571ee_6ce7_11e9_b7fc_600308a3dbc0row3_col1\" class=\"data row3 col1\" >-1.57252</td>\n",
       "                        <td id=\"T_bd7571ee_6ce7_11e9_b7fc_600308a3dbc0row3_col2\" class=\"data row3 col2\" >-1.8134</td>\n",
       "                        <td id=\"T_bd7571ee_6ce7_11e9_b7fc_600308a3dbc0row3_col3\" class=\"data row3 col3\" >0</td>\n",
       "            </tr>\n",
       "    </tbody></table>"
      ],
      "text/plain": [
       "<pandas.io.formats.style.Styler at 0x1a16519090>"
      ]
     },
     "execution_count": 72,
     "metadata": {},
     "output_type": "execute_result"
    }
   ],
   "source": [
    "df.style.background_gradient(cmap='summer')"
   ]
  },
  {
   "cell_type": "code",
   "execution_count": 101,
   "metadata": {},
   "outputs": [
    {
     "name": "stderr",
     "output_type": "stream",
     "text": [
      "/Users/cosy/anaconda3/lib/python2.7/site-packages/ipykernel_launcher.py:1: ParserWarning: Falling back to the 'python' engine because the 'c' engine does not support regex separators (separators > 1 char and different from '\\s+' are interpreted as regex); you can avoid this warning by specifying engine='python'.\n",
      "  \"\"\"Entry point for launching an IPython kernel.\n"
     ]
    }
   ],
   "source": [
    "df2 = pd.read_csv('Contig.csv', sep=' ,', header=None)"
   ]
  },
  {
   "cell_type": "code",
   "execution_count": 103,
   "metadata": {},
   "outputs": [],
   "source": [
    "df2=df2.drop(axis=1,columns=[2]).sort_values(0)"
   ]
  },
  {
   "cell_type": "code",
   "execution_count": 104,
   "metadata": {},
   "outputs": [
    {
     "data": {
      "text/plain": [
       "<matplotlib.axes._subplots.AxesSubplot at 0x1a165627d0>"
      ]
     },
     "execution_count": 104,
     "metadata": {},
     "output_type": "execute_result"
    },
    {
     "data": {
      "image/png": "[encoded data removed]",
      "text/plain": [
       "<Figure size 432x288 with 1 Axes>"
      ]
     },
     "metadata": {
      "needs_background": "light"
     },
     "output_type": "display_data"
    }
   ],
   "source": [
    "df2.plot(x=0, y=1)"
   ]
  },
  {
   "cell_type": "code",
   "execution_count": 105,
   "metadata": {},
   "outputs": [
    {
     "name": "stdout",
     "output_type": "stream",
     "text": [
      "Contig.SEW1_COLLIAUX_1       PlottingDraftAnalysis.pdf\r\n",
      "Contig.SEW1_COLLIAUX_2       SEW1_COLLIAUX_1\r\n",
      "Contig.SEW1_COLLIAUX_3       SEW1_COLLIAUX_2\r\n",
      "Contig.SEW1_COLLIAUX_4       SEW1_COLLIAUX_3\r\n",
      "Contig.csv                   SEW1_COLLIAUX_4\r\n",
      "MSEW1_COLLIAUX_1             dist.dat\r\n",
      "MSEW1_COLLIAUX_2             dist2.dat\r\n",
      "MSEW1_COLLIAUX_3             mat.txt\r\n",
      "MSEW1_COLLIAUX_4             \u001b[31mtridistanze_auto.pl\u001b[m\u001b[m*\r\n",
      "PlottingDraftAnalysis.ipynb\r\n"
     ]
    }
   ],
   "source": [
    "%ls"
   ]
  },
  {
   "cell_type": "code",
   "execution_count": null,
   "metadata": {},
   "outputs": [],
   "source": []
  }
 ],
 "metadata": {
  "kernelspec": {
   "display_name": "Python 2",
   "language": "python",
   "name": "python2"
  },
  "language_info": {
   "codemirror_mode": {
    "name": "ipython",
    "version": 2
   },
   "file_extension": ".py",
   "mimetype": "text/x-python",
   "name": "python",
   "nbconvert_exporter": "python",
   "pygments_lexer": "ipython2",
   "version": "2.7.15"
  }
 },
 "nbformat": 4,
 "nbformat_minor": 2
}
