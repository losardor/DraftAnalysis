{
 "cells": [
  {
   "cell_type": "code",
   "execution_count": 1,
   "metadata": {},
   "outputs": [],
   "source": [
    "import draftAnal as DA\n",
    "import os\n",
    "\n",
    "DA.resetFolder(\"./Data/WORKING\")"
   ]
  },
  {
   "cell_type": "code",
   "execution_count": 2,
   "metadata": {},
   "outputs": [
    {
     "name": "stdout",
     "output_type": "stream",
     "text": [
      "COLLIAUX\n",
      "LORETO\n",
      "UBALDI\n",
      "MONECHI\n",
      "BENTKOWSKI\n",
      "PULLANO\n",
      "AOUAMEUR\n",
      "VANTRIJP\n",
      "GRAVINO\n",
      "TANI\n",
      "COLIZZA\n",
      "POLETTO\n",
      "PINOTTI\n",
      "PETRI\n",
      "VALDANO\n",
      "LONDEI\n",
      "HANAPPE\n",
      "ROUX\n",
      "TEMIME\n"
     ]
    }
   ],
   "source": [
    "Data = []\n",
    "\n",
    "for i, directory in enumerate(next(os.walk('./Data/INPUT/'))[1]):\n",
    "    Data.append(DA.author(directory.lower()))"
   ]
  },
  {
   "cell_type": "code",
   "execution_count": 3,
   "metadata": {},
   "outputs": [],
   "source": [
    "for i, author in enumerate(Data):\n",
    "    author.cleanfilenames()\n",
    "    Data[i] = author"
   ]
  },
  {
   "cell_type": "code",
   "execution_count": 4,
   "metadata": {
    "scrolled": true
   },
   "outputs": [
    {
     "name": "stdout",
     "output_type": "stream",
     "text": [
      "colliaux\n",
      "loreto\n",
      "ubaldi\n",
      "monechi\n",
      "bentkowski\n",
      "pullano\n",
      "aouameur\n",
      "vantrijp\n",
      "gravino\n",
      "tani\n",
      "colizza\n",
      "poletto\n",
      "pinotti\n",
      "petri\n",
      "valdano\n",
      "londei\n",
      "hanappe\n",
      "roux\n",
      "temime\n"
     ]
    }
   ],
   "source": [
    "for i, author in enumerate(Data):\n",
    "    print(author.name)\n",
    "    author.createContigs()\n",
    "    Data[i] = author"
   ]
  },
  {
   "cell_type": "code",
   "execution_count": 5,
   "metadata": {},
   "outputs": [
    {
     "data": {
      "text/plain": [
       "<matplotlib.axes._subplots.AxesSubplot at 0x12d20c5d0>"
      ]
     },
     "execution_count": 5,
     "metadata": {},
     "output_type": "execute_result"
    },
    {
     "data": {
      "image/png": "[encoded data removed]",
      "text/plain": [
       "<Figure size 432x288 with 1 Axes>"
      ]
     },
     "metadata": {
      "needs_background": "light"
     },
     "output_type": "display_data"
    }
   ],
   "source": [
    "Data[i].drafts[-1].contigData.plot(x='Edit_norm', y='distance')"
   ]
  },
  {
   "cell_type": "code",
   "execution_count": 6,
   "metadata": {},
   "outputs": [
    {
     "ename": "NameError",
     "evalue": "name 'importlib' is not defined",
     "output_type": "error",
     "traceback": [
      "\u001b[0;31m---------------------------------------------------------------------------\u001b[0m",
      "\u001b[0;31mNameError\u001b[0m                                 Traceback (most recent call last)",
      "\u001b[0;32m<ipython-input-6-fa6acaa17035>\u001b[0m in \u001b[0;36m<module>\u001b[0;34m\u001b[0m\n\u001b[0;32m----> 1\u001b[0;31m \u001b[0mimportlib\u001b[0m\u001b[0;34m.\u001b[0m\u001b[0mreload\u001b[0m\u001b[0;34m(\u001b[0m\u001b[0mDA\u001b[0m\u001b[0;34m)\u001b[0m\u001b[0;34m\u001b[0m\u001b[0;34m\u001b[0m\u001b[0m\n\u001b[0m\u001b[1;32m      2\u001b[0m \u001b[0;34m\u001b[0m\u001b[0m\n\u001b[1;32m      3\u001b[0m \u001b[0;32mfor\u001b[0m \u001b[0mi\u001b[0m\u001b[0;34m,\u001b[0m \u001b[0mauthor\u001b[0m \u001b[0;32min\u001b[0m \u001b[0menumerate\u001b[0m\u001b[0;34m(\u001b[0m\u001b[0mData\u001b[0m\u001b[0;34m)\u001b[0m\u001b[0;34m:\u001b[0m\u001b[0;34m\u001b[0m\u001b[0;34m\u001b[0m\u001b[0m\n\u001b[1;32m      4\u001b[0m     \u001b[0mprint\u001b[0m\u001b[0;34m(\u001b[0m\u001b[0mauthor\u001b[0m\u001b[0;34m.\u001b[0m\u001b[0mname\u001b[0m\u001b[0;34m)\u001b[0m\u001b[0;34m\u001b[0m\u001b[0;34m\u001b[0m\u001b[0m\n\u001b[1;32m      5\u001b[0m     \u001b[0mauthor\u001b[0m\u001b[0;34m.\u001b[0m\u001b[0mslide\u001b[0m\u001b[0;34m(\u001b[0m\u001b[0;34m)\u001b[0m\u001b[0;34m\u001b[0m\u001b[0;34m\u001b[0m\u001b[0m\n",
      "\u001b[0;31mNameError\u001b[0m: name 'importlib' is not defined"
     ]
    }
   ],
   "source": [
    "importlib.reload(DA)\n",
    "\n",
    "for i, author in enumerate(Data):\n",
    "    print(author.name)\n",
    "    author.slide()\n",
    "    Data[i] = author"
   ]
  },
  {
   "cell_type": "code",
   "execution_count": null,
   "metadata": {},
   "outputs": [],
   "source": []
  }
 ],
 "metadata": {
  "kernelspec": {
   "display_name": "Python 3",
   "language": "python",
   "name": "python3"
  }
 },
 "nbformat": 4,
 "nbformat_minor": 2
}
